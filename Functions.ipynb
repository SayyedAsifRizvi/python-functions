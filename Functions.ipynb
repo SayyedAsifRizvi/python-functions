{
 "cells": [
  {
   "cell_type": "markdown",
   "id": "a1fff110",
   "metadata": {},
   "source": [
    "### Q1. Which keyword is used to create a function? Create a function to return a list of odd numbers in therange of 1 to 25.\n",
    "Answer --> The keyword used to create a function in Python is \"def\".\n"
   ]
  },
  {
   "cell_type": "code",
   "execution_count": 1,
   "id": "4a81b305",
   "metadata": {},
   "outputs": [
    {
     "name": "stdout",
     "output_type": "stream",
     "text": [
      "[1, 3, 5, 7, 9, 11, 13, 15, 17, 19, 21, 23, 25]\n"
     ]
    }
   ],
   "source": [
    "#Here's an example of a function that returns a list of odd numbers in the range of 1 to 25:\n",
    "def get_odd_numbers():\n",
    "    odd_numbers = []\n",
    "    for i in range(1, 26):\n",
    "        if i % 2 != 0:\n",
    "            odd_numbers.append(i)\n",
    "    return odd_numbers\n",
    "\n",
    "print(get_odd_numbers())\n"
   ]
  },
  {
   "cell_type": "markdown",
   "id": "f6e1b534",
   "metadata": {},
   "source": [
    "### Q2. Why *args and **kwargs is used in some functions? Create a function each for *args and **kwargs to demonstrate their use.\n",
    "Answer *args and **kwargs are used to pass a variable number of arguments to a function.\n",
    "\n",
    "*args is used to pass a non-keyworded, variable length argument list to the function. It allows you to pass any number of positional arguments to the function. The arguments passed to the function are stored in a tuple.\n",
    "\n"
   ]
  },
  {
   "cell_type": "code",
   "execution_count": 2,
   "id": "bd442ff6",
   "metadata": {},
   "outputs": [
    {
     "name": "stdout",
     "output_type": "stream",
     "text": [
      "1\n",
      "2\n",
      "3\n",
      "4\n"
     ]
    }
   ],
   "source": [
    "#Here's an example of a function that uses *args:\n",
    "def print_args(*args):\n",
    "    for arg in args:\n",
    "        print(arg)\n",
    "\n",
    "print_args(1, 2, 3, 4)\n"
   ]
  },
  {
   "cell_type": "markdown",
   "id": "ceb08a02",
   "metadata": {},
   "source": [
    "**kwargs is used to pass keyworded, variable length of arguments to the function.\n",
    "It allows you to pass any number of keyword arguments to the function. The arguments passed to the function\n",
    "are stored in a dictionary.\n",
    "\n"
   ]
  },
  {
   "cell_type": "code",
   "execution_count": 4,
   "id": "73412c67",
   "metadata": {},
   "outputs": [
    {
     "name": "stdout",
     "output_type": "stream",
     "text": [
      "a: 1\n",
      "b: 2\n",
      "c: 3\n"
     ]
    }
   ],
   "source": [
    "# Here's an example of a function that uses **kwargs:\n",
    "def print_kwargs(**kwargs):\n",
    "    for key, value in kwargs.items():\n",
    "        print(f\"{key}: {value}\")\n",
    "\n",
    "print_kwargs(a=1, b=2, c=3)\n"
   ]
  },
  {
   "cell_type": "markdown",
   "id": "3abcf689",
   "metadata": {},
   "source": [
    "### Q3. What is an iterator in python? Name the method used to initialise the iterator object and the method used for iteration. Use these methods to print the first five elements of the given list [2, 4, 6, 8, 10, 12, 14, 16,18, 20].\n",
    "Answer---> In Python, an iterator is an object that implements the iterator protocol, which consists of the methods __iter__() and __next__(). The __iter__() method returns the iterator object itself, and the __next__() method returns the next value from the iterator. Once the end of the elements is reached, the __next__() method raises a StopIteration exception to signal that iteration has ended."
   ]
  },
  {
   "cell_type": "code",
   "execution_count": 6,
   "id": "6737a04c",
   "metadata": {},
   "outputs": [
    {
     "name": "stdout",
     "output_type": "stream",
     "text": [
      "2\n",
      "4\n",
      "6\n",
      "8\n",
      "10\n"
     ]
    }
   ],
   "source": [
    "# Here's an example of how you can use these methods to print the first five elements of the given\n",
    "#list [2, 4, 6, 8, 10, 12, 14, 16, 18, 20]:\n",
    "    \n",
    "numbers = [2, 4, 6, 8, 10, 12, 14, 16, 18, 20]\n",
    "numbers_iterator = iter(numbers)\n",
    "\n",
    "for i in range(5):\n",
    "    print(next(numbers_iterator))\n"
   ]
  },
  {
   "cell_type": "markdown",
   "id": "8122aed7",
   "metadata": {},
   "source": [
    "### Q4. What is a generator function in python? Why yield keyword is used? Give an example of a generator function.\n",
    "Answer A generator function in Python is a special type of function that allows you to return a generator iterator. It allows you to iterate over a sequence of values, only generating the values as they are requested, instead of creating the entire sequence in memory. This can be useful when working with large data sets, as it allows you to avoid using up too much memory.\n",
    "\n",
    "The yield keyword is used to return a value from the generator function, and the generator function continues executing from the point it left off the next time it is called.\n",
    "##### personally do read complete blog on generator functions from programiz\n"
   ]
  },
  {
   "cell_type": "code",
   "execution_count": 7,
   "id": "b2f82b0e",
   "metadata": {},
   "outputs": [
    {
     "name": "stdout",
     "output_type": "stream",
     "text": [
      "0\n",
      "1\n",
      "1\n",
      "2\n",
      "3\n",
      "5\n",
      "8\n",
      "13\n",
      "21\n",
      "34\n"
     ]
    }
   ],
   "source": [
    "# Here's an example of a generator function that generates the Fibonacci sequence:\n",
    "def fibonacci(n):\n",
    "    a, b = 0, 1\n",
    "    for i in range(n):\n",
    "        yield a\n",
    "        a, b = b, a + b\n",
    "\n",
    "fib = fibonacci(10)\n",
    "for i in fib:\n",
    "    print(i)\n"
   ]
  },
  {
   "cell_type": "markdown",
   "id": "7797a863",
   "metadata": {},
   "source": [
    "### Q5. Create a generator function for prime numbers less than 1000. Use the next() method to print the first 20 prime numbers.\n"
   ]
  },
  {
   "cell_type": "code",
   "execution_count": 8,
   "id": "2b6585a4",
   "metadata": {},
   "outputs": [
    {
     "name": "stdout",
     "output_type": "stream",
     "text": [
      "2\n",
      "3\n",
      "5\n",
      "7\n",
      "11\n",
      "13\n",
      "17\n",
      "19\n",
      "23\n",
      "29\n",
      "31\n",
      "37\n",
      "41\n",
      "43\n",
      "47\n",
      "53\n",
      "59\n",
      "61\n",
      "67\n",
      "71\n"
     ]
    }
   ],
   "source": [
    "def prime_numbers_generator():\n",
    "    yield 2\n",
    "    primes = [2]\n",
    "    candidate = 3\n",
    "    while candidate < 1000:\n",
    "        is_prime = True\n",
    "        for prime in primes:\n",
    "            if prime * prime > candidate:\n",
    "                break\n",
    "            if candidate % prime == 0:\n",
    "                is_prime = False\n",
    "                break\n",
    "        if is_prime:\n",
    "            primes.append(candidate)\n",
    "            yield candidate\n",
    "        candidate += 2\n",
    "\n",
    "primes_gen = prime_numbers_generator()\n",
    "for i in range(20):\n",
    "    print(next(primes_gen))\n"
   ]
  },
  {
   "cell_type": "code",
   "execution_count": null,
   "id": "eb3cfc8f",
   "metadata": {},
   "outputs": [],
   "source": []
  }
 ],
 "metadata": {
  "kernelspec": {
   "display_name": "Python 3 (ipykernel)",
   "language": "python",
   "name": "python3"
  },
  "language_info": {
   "codemirror_mode": {
    "name": "ipython",
    "version": 3
   },
   "file_extension": ".py",
   "mimetype": "text/x-python",
   "name": "python",
   "nbconvert_exporter": "python",
   "pygments_lexer": "ipython3",
   "version": "3.9.7"
  }
 },
 "nbformat": 4,
 "nbformat_minor": 5
}
