{
  "nbformat": 4,
  "nbformat_minor": 0,
  "metadata": {
    "colab": {
      "provenance": [],
      "authorship_tag": "ABX9TyPW1jliqoFPRLZT5Q7jHQgj",
      "include_colab_link": true
    },
    "kernelspec": {
      "name": "python3",
      "display_name": "Python 3"
    },
    "language_info": {
      "name": "python"
    }
  },
  "cells": [
    {
      "cell_type": "markdown",
      "metadata": {
        "id": "view-in-github",
        "colab_type": "text"
      },
      "source": [
        "<a href=\"https://colab.research.google.com/github/SayyedAsifRizvi/python-functions/blob/main/logicbuilding2.ipynb\" target=\"_parent\"><img src=\"https://colab.research.google.com/assets/colab-badge.svg\" alt=\"Open In Colab\"/></a>"
      ]
    },
    {
      "cell_type": "code",
      "execution_count": 3,
      "metadata": {
        "id": "RiN31Wn2Tgfi"
      },
      "outputs": [],
      "source": [
        "#Q1. You are writing code for a company. The requirement of the company is that you create a python\n",
        "#function that will check whether the password entered by the user is correct or not. The function should\n",
        "#take the password as input and return the string “Valid Password” if the entered password follows the\n",
        "#below-given password guidelines else it should return “Invalid Password”.\n",
        "#Note: 1. The Password should contain at least two uppercase letters and at least two lowercase letters.\n",
        "#2. The Password should contain at least a number and three special characters.\n",
        "#3. The length of the password should be 10 characters long."
      ]
    },
    {
      "cell_type": "code",
      "source": [
        "pass_input = input(\"enter your password : \")\n",
        "def val_password(pass_input):\n",
        "  upper_count = 0\n",
        "  lower_count = 0\n",
        "  special_count = 0\n",
        "  numeric_count = 0\n",
        "  for i in pass_input :\n",
        "    if i.islower() == True :\n",
        "      lower_count += 1\n",
        "    elif i.isupper() == True :\n",
        "      upper_count +=1\n",
        "    elif i.isnumeric() == True :\n",
        "      numeric_count += 1\n",
        "    elif i.islower()!=True and i.isupper()!=True and i.isnumeric()!=True:\n",
        "            special_count+=1\n",
        "    if len(pass_input)==10 and upper_count>=2 and lower_count>=2 and numeric_count>=1 and special_count==3:\n",
        "        return \"Valid Password\"\n",
        "    else:\n",
        "        return \"Invalid Password\"\n",
        "val_password(pass_input)\n",
        "\n",
        "\n"
      ],
      "metadata": {
        "colab": {
          "base_uri": "https://localhost:8080/",
          "height": 54
        },
        "id": "dmofOKQFXI-Z",
        "outputId": "1c009bbc-cfb2-4465-83e9-1db60d37f8f0"
      },
      "execution_count": 6,
      "outputs": [
        {
          "name": "stdout",
          "output_type": "stream",
          "text": [
            "enter your password : Asif@134,\n"
          ]
        },
        {
          "output_type": "execute_result",
          "data": {
            "text/plain": [
              "'Invalid Password'"
            ],
            "application/vnd.google.colaboratory.intrinsic+json": {
              "type": "string"
            }
          },
          "metadata": {},
          "execution_count": 6
        }
      ]
    },
    {
      "cell_type": "code",
      "source": [
        "# Check if the string starts with a particular letter\n",
        "# Lets check if it starts with 'a' or 'A'\n",
        "str1 = input(\"Enter your string: \")\n",
        "str1=str1.lower()\n",
        "x = str1.startswith('a')\n",
        "print(x)"
      ],
      "metadata": {
        "colab": {
          "base_uri": "https://localhost:8080/"
        },
        "id": "cBDVsmjUaUMP",
        "outputId": "1519ebf1-4cb3-4374-8863-bfe22fe2fa46"
      },
      "execution_count": 7,
      "outputs": [
        {
          "output_type": "stream",
          "name": "stdout",
          "text": [
            "Enter your string: asif\n",
            "True\n"
          ]
        }
      ]
    },
    {
      "cell_type": "code",
      "source": [
        "# check if string is numeric\n",
        "str2 = input(\"Enter your string: \")\n",
        "x = str2.isnumeric()\n",
        "print(x)\n"
      ],
      "metadata": {
        "colab": {
          "base_uri": "https://localhost:8080/"
        },
        "id": "O_aLY1qzbLMu",
        "outputId": "c2953fe4-dbbe-4e39-80c7-934b43caad01"
      },
      "execution_count": 8,
      "outputs": [
        {
          "output_type": "stream",
          "name": "stdout",
          "text": [
            "Enter your string: asif\n",
            "False\n"
          ]
        }
      ]
    },
    {
      "cell_type": "code",
      "source": [
        "# sorting a list of tuples\n",
        "list1 = [(\"mango\",99),(\"orange\",80), (\"grapes\", 1000)]\n",
        "list1.sort(key = lambda x:x[1])\n",
        "list1"
      ],
      "metadata": {
        "colab": {
          "base_uri": "https://localhost:8080/"
        },
        "id": "HCYzPHI4bZ_H",
        "outputId": "be8db423-80e5-4709-90c8-acb243aab16d"
      },
      "execution_count": 9,
      "outputs": [
        {
          "output_type": "execute_result",
          "data": {
            "text/plain": [
              "[('orange', 80), ('mango', 99), ('grapes', 1000)]"
            ]
          },
          "metadata": {},
          "execution_count": 9
        }
      ]
    },
    {
      "cell_type": "code",
      "source": [
        "# Find the squares of numbers from 1 to 10\n",
        "list2 = list(range(1, 11))\n",
        "list3 = [i**2 for i in list2]\n",
        "list3"
      ],
      "metadata": {
        "colab": {
          "base_uri": "https://localhost:8080/"
        },
        "id": "pfe-S9Lybbo1",
        "outputId": "7ecfc4d1-d98d-4b58-814a-6db566e2ec46"
      },
      "execution_count": 10,
      "outputs": [
        {
          "output_type": "execute_result",
          "data": {
            "text/plain": [
              "[1, 4, 9, 16, 25, 36, 49, 64, 81, 100]"
            ]
          },
          "metadata": {},
          "execution_count": 10
        }
      ]
    },
    {
      "cell_type": "code",
      "source": [
        "ist2 = list(range(1, 11))\n",
        "list3 = [i**(1/3) for i in list2]\n",
        "list3"
      ],
      "metadata": {
        "colab": {
          "base_uri": "https://localhost:8080/"
        },
        "id": "YBkTJBcobhsP",
        "outputId": "1dba135c-0a71-42ae-99d7-eaaa9deccb6c"
      },
      "execution_count": 11,
      "outputs": [
        {
          "output_type": "execute_result",
          "data": {
            "text/plain": [
              "[1.0,\n",
              " 1.2599210498948732,\n",
              " 1.4422495703074083,\n",
              " 1.5874010519681994,\n",
              " 1.7099759466766968,\n",
              " 1.8171205928321397,\n",
              " 1.912931182772389,\n",
              " 2.0,\n",
              " 2.080083823051904,\n",
              " 2.154434690031884]"
            ]
          },
          "metadata": {},
          "execution_count": 11
        }
      ]
    },
    {
      "cell_type": "code",
      "source": [],
      "metadata": {
        "colab": {
          "base_uri": "https://localhost:8080/"
        },
        "id": "CWPlbwDpboyD",
        "outputId": "f6585577-1b42-455a-a23d-09357b3fdadf"
      },
      "execution_count": 12,
      "outputs": [
        {
          "output_type": "stream",
          "name": "stdout",
          "text": [
            "Enter a number: 98\n",
            "The number is even\n"
          ]
        }
      ]
    },
    {
      "cell_type": "code",
      "source": [
        "# Filter odd numbers from the given list\n",
        "list2 = [1,2,3,4,5,6,7,8,9,10]\n",
        "list3 = list(filter(lambda x:x%2!=0, list2))\n",
        "list3"
      ],
      "metadata": {
        "colab": {
          "base_uri": "https://localhost:8080/"
        },
        "id": "qPwrthmpbtBo",
        "outputId": "936a2ec9-bb24-4a88-b1db-2c504ca17676"
      },
      "execution_count": 13,
      "outputs": [
        {
          "output_type": "execute_result",
          "data": {
            "text/plain": [
              "[1, 3, 5, 7, 9]"
            ]
          },
          "metadata": {},
          "execution_count": 13
        }
      ]
    },
    {
      "cell_type": "code",
      "source": [
        "# Sorting integer list into positive and negative integer lists\n",
        "list1 = [1,2,3,4,5,6,-1,-2,-3,-4,-5,0]\n",
        "list2 = list(filter(lambda x:x>0, list1))\n",
        "list3 = list(filter(lambda x:x<0, list1))\n",
        "print(list2)\n",
        "print(list3a"
      ],
      "metadata": {
        "id": "FCBHTY1cbzDM"
      },
      "execution_count": null,
      "outputs": []
    }
  ]
}