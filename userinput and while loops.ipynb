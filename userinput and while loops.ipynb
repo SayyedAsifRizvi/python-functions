{
 "cells": [
  {
   "cell_type": "markdown",
   "id": "5b2ab060",
   "metadata": {},
   "source": [
    "### write a program to accept the percentage from user and display the grade a/c to following criterion\n",
    "    >90 = A\n",
    "    \n",
    "    >80 and <= 90 = B\n",
    "    \n",
    "    >60 and <= 80 = c\n",
    "    \n",
    "    <60 = d"
   ]
  },
  {
   "cell_type": "code",
   "execution_count": 1,
   "id": "dd474841",
   "metadata": {},
   "outputs": [
    {
     "name": "stdout",
     "output_type": "stream",
     "text": [
      "59\n",
      "D\n"
     ]
    }
   ],
   "source": [
    "percentage = int (input())\n",
    "\n",
    "if percentage > 90 :\n",
    "    print(\"A\")\n",
    "elif  percentage > 80 and percentage < 90 :\n",
    "    print(\"B\")\n",
    "elif percentage > 60 and percentage < 80 :\n",
    "    print(\"C\")\n",
    "elif percentage < 60 :\n",
    "    print(\"D\")\n",
    "#print(percentage)"
   ]
  },
  {
   "cell_type": "markdown",
   "id": "36de03bc",
   "metadata": {},
   "source": [
    "### write a program to accept bike price from user and display the road tax percentage a/c\n",
    "to criterion given in code\n"
   ]
  },
  {
   "cell_type": "code",
   "execution_count": null,
   "id": "47588751",
   "metadata": {},
   "outputs": [],
   "source": [
    "bike_price = int (input())\n",
    "\n",
    "if bike_price > 100000 :\n",
    "    print(\"15%\")\n",
    "elif  bike_price > 50000 and percentage < 100000 :\n",
    "    print(\"10%\")\n",
    "elif bike_price > 10000 and percentage < 50000 :\n",
    "    print(\"5%\")\n",
    "\n",
    "#print(percentage)"
   ]
  },
  {
   "cell_type": "markdown",
   "id": "d7d68da3",
   "metadata": {},
   "source": [
    "### write a code in python to accept city from the user from the given list of cities and display him monument corresponding to the given city"
   ]
  },
  {
   "cell_type": "code",
   "execution_count": null,
   "id": "8dfd4a21",
   "metadata": {},
   "outputs": [],
   "source": [
    "city_dict = {\"Agra\" : \"Taj Mahal\",\"Delhi\" : \"Redfort\",\"Jaipur\": \"Jalmahal\"}\n",
    "city_choice = input(\"Enter the name of city you would like to visit : \")\n",
    "monument = city_dict.get(city_choice)\n"
   ]
  },
  {
   "cell_type": "markdown",
   "id": "ba33731b",
   "metadata": {},
   "source": [
    "### why and when to use while loop in python give a detailed description with an example"
   ]
  },
  {
   "cell_type": "markdown",
   "id": "ed0bb4fc",
   "metadata": {},
   "source": [
    "In Python, a while loop is a control flow statement that allows a block of code to be executed repeatedly based on a condition. The code inside the while loop will continue to execute as long as the condition is true. Once the condition becomes false, the loop will terminate, and the program will continue executing the code that comes after the loop.\n",
    "\n",
    "The syntax for a while loop in Python is as follows:\n",
    "##### while condition:\n",
    "    # code to be executed\n",
    "    \n",
    "In this syntax, the condition is a Boolean expression that is evaluated at the beginning of each iteration of the loop. If the condition is true, then the code inside the loop will be executed. If the condition is false, then the loop will terminate, and the program will continue executing the code that comes after the loop.\n",
    "\n"
   ]
  },
  {
   "cell_type": "code",
   "execution_count": 1,
   "id": "7f3eb79b",
   "metadata": {},
   "outputs": [
    {
     "name": "stdout",
     "output_type": "stream",
     "text": [
      "1\n",
      "2\n",
      "3\n",
      "4\n",
      "5\n",
      "6\n",
      "7\n",
      "8\n",
      "9\n",
      "10\n"
     ]
    }
   ],
   "source": [
    "# example\n",
    "# Example 1: Printing numbers using while loop\n",
    "\n",
    "num = 1\n",
    "while num <= 10:\n",
    "    print(num)\n",
    "    num = num + 1\n"
   ]
  },
  {
   "cell_type": "markdown",
   "id": "29d8e5e1",
   "metadata": {},
   "source": [
    "In this example, the while loop is used to print the numbers 1 to 10. The num variable is initialized to 1, and the condition in the while loop checks whether num is less than or equal to 10. If the condition is true, then the print(num) statement is executed, and num is incremented by 1. This process repeats until num is no longer less than or equal to 10, at which point the loop terminates."
   ]
  },
  {
   "cell_type": "code",
   "execution_count": 2,
   "id": "0194261b",
   "metadata": {},
   "outputs": [
    {
     "name": "stdout",
     "output_type": "stream",
     "text": [
      "Do you want to continue? (yes or no)g\n",
      "Do you want to continue? (yes or no)yes\n",
      "You chose to continue.\n"
     ]
    }
   ],
   "source": [
    "# another example\n",
    "# Example 2: Asking for user input until a specific condition is met\n",
    "\n",
    "answer = ''\n",
    "while answer != 'yes':\n",
    "    answer = input(\"Do you want to continue? (yes or no)\")\n",
    "\n",
    "print(\"You chose to continue.\")\n"
   ]
  },
  {
   "cell_type": "markdown",
   "id": "6fc4b0c3",
   "metadata": {},
   "source": [
    "In this example, the while loop is used to ask the user for input until the user enters the value 'yes'. The answer variable is initialized to an empty string, and the condition in the while loop checks whether answer is not equal to 'yes'. If the condition is true, then the program asks the user for input using the input() function, and stores the user's response in the answer variable. This process repeats until the user enters the value 'yes', at which point the loop terminates, and the program prints the message \"You chose to continue.\"\n",
    "\n",
    "In summary, a while loop in Python is used to repeat a block of code as long as a specific condition is true. While loops are useful for tasks where you need to perform an action multiple times, such as iterating over a list, asking for user input, or performing a calculation until a specific condition is met."
   ]
  },
  {
   "cell_type": "markdown",
   "id": "30cc26ca",
   "metadata": {},
   "source": [
    "### Use nested while loops to print 3 different patterns"
   ]
  },
  {
   "cell_type": "markdown",
   "id": "c580d55f",
   "metadata": {},
   "source": [
    "Pattern 1: Right Triangle Pattern\n",
    "\n",
    "            *\n",
    "            \n",
    "            **\n",
    "            \n",
    "            ***\n",
    "            \n",
    "            ****\n",
    "            \n",
    "            *****\n"
   ]
  },
  {
   "cell_type": "code",
   "execution_count": 3,
   "id": "0db4f081",
   "metadata": {},
   "outputs": [
    {
     "name": "stdout",
     "output_type": "stream",
     "text": [
      "* \n",
      "* * \n",
      "* * * \n",
      "* * * * \n",
      "* * * * * \n"
     ]
    }
   ],
   "source": [
    "i = 1\n",
    "while i <= 5 :\n",
    "    j = 1\n",
    "    while j <= i:\n",
    "        print(\"*\" , end = \" \")\n",
    "        j += 1\n",
    "    print()\n",
    "    i += 1"
   ]
  },
  {
   "cell_type": "markdown",
   "id": "4f840c5c",
   "metadata": {},
   "source": [
    "Pattern 2: Diamond Pattern\n",
    "\n",
    "              *\n",
    "              \n",
    "             ***\n",
    "              \n",
    "            *****\n",
    "              \n",
    "           *******\n",
    "              \n",
    "            *****\n",
    "              \n",
    "             ***\n",
    "              \n",
    "              *\n"
   ]
  },
  {
   "cell_type": "code",
   "execution_count": 6,
   "id": "ade49249",
   "metadata": {},
   "outputs": [
    {
     "name": "stdout",
     "output_type": "stream",
     "text": [
      "   *\n",
      "  ***\n",
      " *****\n",
      "*******\n",
      " *****\n",
      "  ***\n",
      "   *\n"
     ]
    }
   ],
   "source": [
    "i =1 \n",
    "while i <= 4 :\n",
    "    j= 1\n",
    "    while j <= 4 - i :\n",
    "        print (\" \" , end =\"\")\n",
    "        j += 1\n",
    "    j =1\n",
    "    while j <= 2*i - 1 :\n",
    "        print(\"*\",end =\"\")\n",
    "        j +=1\n",
    "    print()\n",
    "    i += 1\n",
    "    \n",
    "i = 3 \n",
    "while i >= 1:\n",
    "    j = 1\n",
    "    while j <= 4 - i :\n",
    "        print(\" \", end =\"\")\n",
    "        j += 1\n",
    "    j = 1\n",
    "    while j <= 2*i - 1 :\n",
    "        print(\"*\", end =\"\")\n",
    "        j += 1\n",
    "    print()\n",
    "    i -=1 "
   ]
  },
  {
   "cell_type": "markdown",
   "id": "5508cad7",
   "metadata": {},
   "source": [
    "Pattern 3: Hollow Rectangle Pattern\n",
    "\n",
    "     *********\n",
    "     *       *\n",
    "     *       *\n",
    "     *       *\n",
    "     *       *\n",
    "     *********\n"
   ]
  },
  {
   "cell_type": "code",
   "execution_count": 7,
   "id": "8fad747d",
   "metadata": {},
   "outputs": [
    {
     "name": "stdout",
     "output_type": "stream",
     "text": [
      "*********\n",
      "*       *\n",
      "*       *\n",
      "*       *\n",
      "*       *\n",
      "*********\n"
     ]
    }
   ],
   "source": [
    "# Pattern 3: Hollow Rectangle Pattern\n",
    "i = 1\n",
    "while i <= 6:\n",
    "    j = 1\n",
    "    while j <= 9:\n",
    "        if i == 1 or i == 6 or j == 1 or j == 9:\n",
    "            print(\"*\", end=\"\")\n",
    "        else:\n",
    "            print(\" \", end=\"\")\n",
    "        j += 1\n",
    "    print()\n",
    "    i += 1\n"
   ]
  },
  {
   "cell_type": "markdown",
   "id": "1136d1d2",
   "metadata": {},
   "source": [
    "### reverse a while loop to sisplay numbers from 10 to 1"
   ]
  },
  {
   "cell_type": "code",
   "execution_count": 8,
   "id": "1aff6298",
   "metadata": {},
   "outputs": [
    {
     "name": "stdout",
     "output_type": "stream",
     "text": [
      "10\n",
      "9\n",
      "8\n",
      "7\n",
      "6\n",
      "5\n",
      "4\n",
      "3\n",
      "2\n",
      "1\n"
     ]
    }
   ],
   "source": [
    "i = 10 \n",
    "while i >= 1 :\n",
    "    print(i)\n",
    "    i -= 1"
   ]
  },
  {
   "cell_type": "code",
   "execution_count": null,
   "id": "cf9715cc",
   "metadata": {},
   "outputs": [],
   "source": []
  }
 ],
 "metadata": {
  "kernelspec": {
   "display_name": "Python 3 (ipykernel)",
   "language": "python",
   "name": "python3"
  },
  "language_info": {
   "codemirror_mode": {
    "name": "ipython",
    "version": 3
   },
   "file_extension": ".py",
   "mimetype": "text/x-python",
   "name": "python",
   "nbconvert_exporter": "python",
   "pygments_lexer": "ipython3",
   "version": "3.9.7"
  }
 },
 "nbformat": 4,
 "nbformat_minor": 5
}
